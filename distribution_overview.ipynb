{
 "cells": [
  {
   "cell_type": "code",
   "execution_count": 13,
   "metadata": {},
   "outputs": [],
   "source": [
    "import numpy as np\n",
    "import scipy.stats as stats\n",
    "import matplotlib.pyplot as plt"
   ]
  },
  {
   "cell_type": "markdown",
   "metadata": {},
   "source": [
    "# Overview of Distributions"
   ]
  },
  {
   "cell_type": "code",
   "execution_count": 41,
   "metadata": {},
   "outputs": [],
   "source": [
    "def plot_distribution(ax, x, y, density_fun, color=None, visibility=1, label=None, title=None, num_points = 100):\n",
    "    \n",
    "    # create grid for parameters (a,b)\n",
    "    a_array = np.linspace(-4, 4, num_points)\n",
    "    b_array = np.linspace(-4, 4, num_points)\n",
    "    A_array, B_array = np.meshgrid(a_array, b_array)\n",
    "    \n",
    "    # evaluate density for every point in the grid and reshape bac\n",
    "    Z = density_fun(x, y, A_array.ravel(), B_array.ravel())\n",
    "    Z = Z.reshape((len(a_array), len(b_array)))\n",
    "    \n",
    "    # plot contour  \n",
    "    ax.contour(a_array, b_array, np.exp(Z), colors=color, alpha=visibility)\n",
    "    ax.plot([-1000], [-1000], color=color, label=label)\n",
    "    ax.set(xlabel='slope', ylabel='intercept', xlim=(-4, 4), ylim=(-4, 4), title=title)"
   ]
  },
  {
   "cell_type": "markdown",
   "metadata": {},
   "source": [
    "## Normal Distribution"
   ]
  },
  {
   "cell_type": "code",
   "execution_count": null,
   "metadata": {},
   "outputs": [],
   "source": []
  },
  {
   "cell_type": "markdown",
   "metadata": {},
   "source": [
    "## Poisson Distribution"
   ]
  },
  {
   "cell_type": "markdown",
   "metadata": {},
   "source": [
    "The *poisson* dsitribution is used for *count* data and has the following form:\n",
    "$$\n",
    "f(k ; \\lambda)=\\operatorname{Pr}(X=k)=\\frac{\\lambda^k e^{-\\lambda}}{k!},\n",
    "$$\n",
    "where\n",
    "- $k$ is the number of occurrences $(k=0,1,2, \\ldots)$\n",
    "- $e$ is Euler's number $(e=2.71828 \\ldots)$\n",
    "- $k!=k(k-1) \\cdots(3)(2)(1)$ is the factorial."
   ]
  },
  {
   "cell_type": "markdown",
   "metadata": {},
   "source": [
    "### Exam question\n",
    "\n",
    "Consider the generalized linear model with a Poisson likelihood\n",
    "$$\n",
    "\\begin{aligned}\n",
    "y_n \\mid \\boldsymbol{w}, x_n & \\sim \\operatorname{Poisson}\\left(\\lambda_n\\right) \\\\\n",
    "\\lambda_n & =e^{w_0+w_1 x_n} \\\\\n",
    "\\boldsymbol{w} & \\sim \\mathcal{N}\\left(\\mathbf{0}, \\alpha^{-1} \\boldsymbol{I}\\right),\n",
    "\\end{aligned}\n",
    "$$\n",
    "where $\\boldsymbol{w}=\\left[w_0, w_1\\right]$ for the following dataset $\\mathcal{D}=\\left\\{x_n, y_n\\right\\}$, for $N=5$, where $\\boldsymbol{x}=[1,2,4,8,10]$ and $\\boldsymbol{y}=[5,4,1,0,0]$. Assume $\\alpha=\\frac{1}{4}$."
   ]
  },
  {
   "cell_type": "code",
   "execution_count": null,
   "metadata": {},
   "outputs": [],
   "source": [
    "# Data\n",
    "x = np.array([1, 2, 4, 8, 10])\n",
    "y = np.array([5, 4, 1, 0, 0])\n",
    "alpha = 1/4\n",
    "\n",
    "# plotting contours\n",
    "# gamma prior\n",
    "prior = lambda x, y, a, b: np.exp(stats.norm.logpdf(a, 0, 1/alpha)*x + stats.norm.logpdf(b, 0, 1/alpha))\n",
    "likelihood = lambda x, y, a, b: np.sum(stats.norm.logpdf(y, a*x + b, 1))\n",
    "\n",
    "# Defining ranges for w0 and w1\n",
    "w0 = np.linspace(-3.5, 3.5, 100)\n",
    "w1 = np.linspace(-3.5, 3.5, 100)\n",
    "\n",
    "\n",
    "plot_distribution(plt, x, y, prior, color='blue', label='prior', title='Prior distribution')\n"
   ]
  },
  {
   "cell_type": "markdown",
   "metadata": {},
   "source": [
    "## The Binomial distribution and maximum likelihood estimation\n",
    "\n",
    "First we re-cap the ***Binomial distribution***. The Binomial distribution is a discrete probability distribution representing the number of successes in a sequence of **independent Bernoulli trials** and it is specified through its **probability mass function (PMF)**:\n",
    "\n",
    "$$\n",
    "\\begin{align*}\n",
    "p(y|N, \\theta) &= \\text{Bin}(y|N, \\theta)\\\\\n",
    "&= {N\\choose y} \\theta^{y}(1-\\theta)^{N-y},\n",
    "\\end{align*}$$\n",
    "\n",
    "where $N$ is the number of trials, $\\theta \\in \\left[0, 1\\right]$ is the probability of success in each individual trial and $y \\in \\left\\lbrace 0, 1, \\dots, N \\right\\rbrace$ is the total number of successes. The quantity ${N\\choose y}$ is a called a binomial coefficient and is pronounced \"$N$ choose $y$\" and counts the number of ways $y$ items can be chosen from a set of $N$ items. The simplest way to estimate $\\theta$ is through **maximum likelihood estimation (MLE)**, which for this model can be done analytically:\n",
    "\n",
    "$$\\hat{\\theta}_{\\text{MLE}} = \\arg\\max_{\\theta} p(y|N, \\theta) = \\frac{y}{N}.$$\n",
    "\n",
    "We can also compute a classic/frequentist 95%-**confidence interval**:\n",
    "\n",
    "$$\\hat{\\theta}_{\\text{MLE}} \\pm 1.96 \\sqrt{\\frac{\\hat{\\theta}_{\\text{MLE}}(1-\\hat{\\theta}_{\\text{MLE}})}{N}}.$$\n",
    "\n",
    "Technically, this type of interval is called a **Wald interval** and relies on a Gaussian approximation, but we won't cover these details in this course. Note that a **confidence interval** is **generally not** the same as a **posterior credibility interval** (see Section 4.6.6 in Murphy1). "
   ]
  },
  {
   "cell_type": "markdown",
   "metadata": {},
   "source": [
    "### Exam question\n",
    "\n",
    "Suppose the outcome of $N=31$ independent Bernoulli trials generated $y=7$ successes. Let $\\theta \\in[0,1]$ denote the probability of success. Assume a Binomial likelihood, i.e. $p(y \\mid \\theta)=\\operatorname{Bin}(y \\mid N, \\theta)$ with the following prior distribution for $\\theta$ :\n",
    "$$\n",
    "p(\\theta)=\\frac{3}{7} \\operatorname{Beta}(\\theta \\mid 2,10)+\\frac{4}{7} \\operatorname{Beta}(\\theta \\mid 10,2)\n",
    "$$"
   ]
  },
  {
   "cell_type": "code",
   "execution_count": 8,
   "metadata": {},
   "outputs": [
    {
     "name": "stdout",
     "output_type": "stream",
     "text": [
      "The prior probability that theta > 0.5 is approximately 0.5706\n"
     ]
    }
   ],
   "source": [
    "def compute_prior_probability(a1, b1, a2, b2, weight1, threshold=0.5):\n",
    "    \"\"\"\n",
    "    Compute the probability that theta > threshold for a mixture of two beta distributions.\n",
    "    \n",
    "    Parameters:\n",
    "    a1, b1 : parameters for the first beta distribution.\n",
    "    a2, b2 : parameters for the second beta distribution.\n",
    "    weight1 : weight for the first beta distribution in the mixture.\n",
    "    threshold : threshold value to compute the probability for theta > threshold.\n",
    "    \n",
    "    Returns:\n",
    "    Probability that theta > threshold.\n",
    "    \"\"\"\n",
    "    weight2 = 1 - weight1\n",
    "    prob1 = 1 - stats.beta.cdf(threshold, a1, b1)\n",
    "    prob2 = 1 - stats.beta.cdf(threshold, a2, b2)\n",
    "    return weight1 * prob1 + weight2 * prob2\n",
    "\n",
    "# Parameters as per the problem statement\n",
    "a1, b1 = 2, 10\n",
    "a2, b2 = 10, 2\n",
    "weight1 = 3/7\n",
    "\n",
    "# Computing the probability that theta > 0.5\n",
    "probability = compute_prior_probability(a1, b1, a2, b2, weight1)\n",
    "print(f\"The prior probability that theta > 0.5 is approximately {probability:.4f}\")"
   ]
  },
  {
   "cell_type": "markdown",
   "metadata": {},
   "source": [
    "Marginal likelihood of the binomial likelihood is:\n"
   ]
  },
  {
   "cell_type": "code",
   "execution_count": 33,
   "metadata": {},
   "outputs": [
    {
     "data": {
      "text/plain": [
       "array([[0.00000000e+00],\n",
       "       [1.00010001e-04],\n",
       "       [2.00020002e-04],\n",
       "       ...,\n",
       "       [9.99799980e-01],\n",
       "       [9.99899990e-01],\n",
       "       [1.00000000e+00]])"
      ]
     },
     "execution_count": 33,
     "metadata": {},
     "output_type": "execute_result"
    }
   ],
   "source": [
    "x"
   ]
  },
  {
   "cell_type": "code",
   "execution_count": 40,
   "metadata": {},
   "outputs": [
    {
     "name": "stderr",
     "output_type": "stream",
     "text": [
      "/var/folders/1q/c4zn0_y541q9hpfms4qtj67m0000gn/T/ipykernel_75113/893354120.py:2: RuntimeWarning: divide by zero encountered in log\n",
      "  density_fun = lambda x, y, a, b: np.log(weight1 * stats.beta.pdf(x, a1, b1) + (1 - weight1) * stats.beta.pdf(x, a2, b2))\n"
     ]
    },
    {
     "data": {
      "image/png": "[encoded data removed]",
      "text/plain": [
       "<Figure size 640x480 with 1 Axes>"
      ]
     },
     "metadata": {},
     "output_type": "display_data"
    }
   ],
   "source": []
  }
 ],
 "metadata": {
  "kernelspec": {
   "display_name": ".venv",
   "language": "python",
   "name": "python3"
  },
  "language_info": {
   "codemirror_mode": {
    "name": "ipython",
    "version": 3
   },
   "file_extension": ".py",
   "mimetype": "text/x-python",
   "name": "python",
   "nbconvert_exporter": "python",
   "pygments_lexer": "ipython3",
   "version": "3.10.14"
  }
 },
 "nbformat": 4,
 "nbformat_minor": 2
}
